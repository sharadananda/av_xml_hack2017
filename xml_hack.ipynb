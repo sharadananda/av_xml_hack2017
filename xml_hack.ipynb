{
 "cells": [
  {
   "cell_type": "code",
   "execution_count": 10,
   "metadata": {
    "collapsed": true
   },
   "outputs": [],
   "source": [
    "%matplotlib inline\n",
    "# import modules\n",
    "import pandas as pd\n",
    "import scipy.stats as st\n",
    "import numpy as np\n",
    "import xgboost as xgb\n",
    "import operator\n",
    "from matplotlib import pylab as plt\n",
    "\n",
    "from sklearn.model_selection import train_test_split  \n",
    "from xgboost.sklearn import XGBRegressor\n",
    "from sklearn.preprocessing import LabelEncoder\n",
    "from sklearn.model_selection import RandomizedSearchCV"
   ]
  },
  {
   "cell_type": "code",
   "execution_count": 2,
   "metadata": {
    "collapsed": true
   },
   "outputs": [],
   "source": [
    "# load data files\n",
    "contacts_pre_2017=pd.read_csv('../data/Train/Contacts_Pre_2017.csv')\n",
    "resolution_pre_2017=pd.read_csv('../data/Train/Resolution_Pre_2017.csv', encoding='iso8859-1')\n",
    "\n",
    "contacts2017=pd.read_csv('../data/Test/Contacts2017.csv')\n",
    "resolution2017=pd.read_csv('../data/Test/Resolution2017.csv')"
   ]
  },
  {
   "cell_type": "code",
   "execution_count": 3,
   "metadata": {
    "collapsed": false
   },
   "outputs": [],
   "source": [
    "# separate predictor and target variables\n",
    "contact_ID = contacts2017['ID']\n",
    "X_c = contacts_pre_2017.loc[:, ['CONTACT.TYPE']]\n",
    "y_c = contacts_pre_2017['Contacts']\n",
    "test_c = contacts2017.loc[:, ['CONTACT.TYPE']]\n",
    "\n",
    "res_ID = resolution2017['ID']\n",
    "X_r = resolution_pre_2017.loc[:, ['Category', 'Subject']]\n",
    "y_r = resolution_pre_2017['Resolution'] # Target variable\n",
    "test_r = resolution2017.loc[:, ['Category', 'Subject']]"
   ]
  },
  {
   "cell_type": "code",
   "execution_count": 4,
   "metadata": {
    "collapsed": false
   },
   "outputs": [],
   "source": [
    "# define label encoder\n",
    "lb_temp = LabelEncoder()\n",
    "# replace the Contact Type column\n",
    "X_c['CONTACT.TYPE'] = lb_temp.fit_transform(X_c['CONTACT.TYPE'])\n",
    "test_c['CONTACT.TYPE'] = lb_temp.fit_transform(test_c['CONTACT.TYPE'])\n",
    "# replace Category & Subject columns\n",
    "X_r['Category'] = lb_temp.fit_transform(X_r['Category'])\n",
    "X_r['Subject'] = lb_temp.fit_transform(X_r['Subject'])\n",
    "test_r['Category'] = lb_temp.fit_transform(test_r['Category'])\n",
    "test_r['Subject'] = lb_temp.fit_transform(test_r['Subject'])"
   ]
  },
  {
   "cell_type": "code",
   "execution_count": 5,
   "metadata": {
    "collapsed": true
   },
   "outputs": [],
   "source": [
    "x_train,x_val,y_train,y_val=train_test_split(X_c,y_c,test_size=0.3,random_state=42)"
   ]
  },
  {
   "cell_type": "code",
   "execution_count": 7,
   "metadata": {
    "collapsed": false
   },
   "outputs": [],
   "source": [
    "dtrain = xgb.DMatrix(np.array(x_train), label=y_train)\n",
    "dval=xgb.DMatrix(np.array(x_val),label=y_val)\n",
    "dtest = xgb.DMatrix(np.array(test_c))"
   ]
  },
  {
   "cell_type": "code",
   "execution_count": 8,
   "metadata": {
    "collapsed": false
   },
   "outputs": [
    {
     "name": "stdout",
     "output_type": "stream",
     "text": [
      "[0]\ttrain-rmse:959.334\teval-rmse:947.58\n",
      "Multiple eval metrics have been passed: 'eval-rmse' will be used for early stopping.\n",
      "\n",
      "Will train until eval-rmse hasn't improved in 50 rounds.\n",
      "[1]\ttrain-rmse:854.105\teval-rmse:844.622\n",
      "[2]\ttrain-rmse:800.018\teval-rmse:792.181\n",
      "[3]\ttrain-rmse:770.148\teval-rmse:763.575\n",
      "[4]\ttrain-rmse:755.613\teval-rmse:749.893\n",
      "[5]\ttrain-rmse:748.374\teval-rmse:743.237\n",
      "[6]\ttrain-rmse:744.382\teval-rmse:739.688\n",
      "[7]\ttrain-rmse:742.447\teval-rmse:738.056\n",
      "[8]\ttrain-rmse:741.622\teval-rmse:737.41\n",
      "[9]\ttrain-rmse:741.237\teval-rmse:737.137\n",
      "[10]\ttrain-rmse:740.966\teval-rmse:736.968\n",
      "[11]\ttrain-rmse:740.875\teval-rmse:736.92\n",
      "[12]\ttrain-rmse:740.775\teval-rmse:736.882\n",
      "[13]\ttrain-rmse:740.744\teval-rmse:736.876\n",
      "[14]\ttrain-rmse:740.703\teval-rmse:736.875\n",
      "[15]\ttrain-rmse:740.661\teval-rmse:736.916\n",
      "[16]\ttrain-rmse:740.668\teval-rmse:736.898\n",
      "[17]\ttrain-rmse:740.677\teval-rmse:736.887\n",
      "[18]\ttrain-rmse:740.679\teval-rmse:736.885\n",
      "[19]\ttrain-rmse:740.664\teval-rmse:736.906\n",
      "[20]\ttrain-rmse:740.66\teval-rmse:736.946\n",
      "[21]\ttrain-rmse:740.661\teval-rmse:736.953\n",
      "[22]\ttrain-rmse:740.662\teval-rmse:736.96\n",
      "[23]\ttrain-rmse:740.669\teval-rmse:736.989\n",
      "[24]\ttrain-rmse:740.666\teval-rmse:736.979\n",
      "[25]\ttrain-rmse:740.661\teval-rmse:736.955\n",
      "[26]\ttrain-rmse:740.662\teval-rmse:736.959\n",
      "[27]\ttrain-rmse:740.669\teval-rmse:736.988\n",
      "[28]\ttrain-rmse:740.669\teval-rmse:736.99\n",
      "[29]\ttrain-rmse:740.685\teval-rmse:737.035\n",
      "[30]\ttrain-rmse:740.68\teval-rmse:737.021\n",
      "[31]\ttrain-rmse:740.662\teval-rmse:736.963\n",
      "[32]\ttrain-rmse:740.66\teval-rmse:736.924\n",
      "[33]\ttrain-rmse:740.661\teval-rmse:736.914\n",
      "[34]\ttrain-rmse:740.66\teval-rmse:736.922\n",
      "[35]\ttrain-rmse:740.66\teval-rmse:736.937\n",
      "[36]\ttrain-rmse:740.661\teval-rmse:736.917\n",
      "[37]\ttrain-rmse:740.667\teval-rmse:736.899\n",
      "[38]\ttrain-rmse:740.665\teval-rmse:736.903\n",
      "[39]\ttrain-rmse:740.66\teval-rmse:736.924\n",
      "[40]\ttrain-rmse:740.671\teval-rmse:736.894\n",
      "[41]\ttrain-rmse:740.665\teval-rmse:736.906\n",
      "[42]\ttrain-rmse:740.66\teval-rmse:736.923\n",
      "[43]\ttrain-rmse:740.661\teval-rmse:736.92\n",
      "[44]\ttrain-rmse:740.672\teval-rmse:736.894\n",
      "[45]\ttrain-rmse:740.686\teval-rmse:736.883\n",
      "[46]\ttrain-rmse:740.711\teval-rmse:736.878\n",
      "[47]\ttrain-rmse:740.67\teval-rmse:736.895\n",
      "[48]\ttrain-rmse:740.66\teval-rmse:736.926\n",
      "[49]\ttrain-rmse:740.674\teval-rmse:736.89\n",
      "[50]\ttrain-rmse:740.681\teval-rmse:736.885\n",
      "[51]\ttrain-rmse:740.686\teval-rmse:736.884\n",
      "[52]\ttrain-rmse:740.66\teval-rmse:736.938\n",
      "[53]\ttrain-rmse:740.66\teval-rmse:736.94\n",
      "[54]\ttrain-rmse:740.661\teval-rmse:736.954\n",
      "[55]\ttrain-rmse:740.661\teval-rmse:736.95\n",
      "[56]\ttrain-rmse:740.66\teval-rmse:736.945\n",
      "[57]\ttrain-rmse:740.66\teval-rmse:736.937\n",
      "[58]\ttrain-rmse:740.684\teval-rmse:736.885\n",
      "[59]\ttrain-rmse:740.709\teval-rmse:736.878\n",
      "[60]\ttrain-rmse:740.688\teval-rmse:736.883\n",
      "[61]\ttrain-rmse:740.686\teval-rmse:736.884\n",
      "[62]\ttrain-rmse:740.668\teval-rmse:736.899\n",
      "[63]\ttrain-rmse:740.676\teval-rmse:736.89\n",
      "[64]\ttrain-rmse:740.662\teval-rmse:736.912\n",
      "Stopping. Best iteration:\n",
      "[14]\ttrain-rmse:740.703\teval-rmse:736.875\n",
      "\n"
     ]
    }
   ],
   "source": [
    "# classification\n",
    "xgb_params = {\n",
    "    'seed': 7,\n",
    "    # 'colsample_bytree': 0.7,\n",
    "    'silent': 0,\n",
    "    'subsample': 0.8,\n",
    "    'learning_rate': 0.3, #0.2\n",
    "    'objective': 'reg:linear',\n",
    "    'max_depth': 5, #3\n",
    "    # 'num_parallel_tree': 1,\n",
    "    #'min_child_weight': 500,\n",
    "    'min_child_weight': 1,\n",
    "    'eval_metric': 'rmse',\n",
    "}\n",
    "num_round=300\n",
    "watchlist=[(dtrain,'train'),(dval,'eval')]\n",
    "\n",
    "gbdt = xgb.train(xgb_params, dtrain,num_round,watchlist,early_stopping_rounds=50)"
   ]
  },
  {
   "cell_type": "code",
   "execution_count": 11,
   "metadata": {
    "collapsed": false
   },
   "outputs": [
    {
     "name": "stdout",
     "output_type": "stream",
     "text": [
      "Index(['CONTACT.TYPE'], dtype='object')\n",
      "[('CONTACT.TYPE', 486)]\n"
     ]
    },
    {
     "name": "stderr",
     "output_type": "stream",
     "text": [
      "/Users/shiv/anaconda3/lib/python3.5/site-packages/matplotlib/axes/_base.py:2903: UserWarning: Attempting to set identical left==right results\n",
      "in singular transformations; automatically expanding.\n",
      "left=0.0, right=0.0\n",
      "  'left=%s, right=%s') % (left, right))\n"
     ]
    },
    {
     "data": {
      "image/png": "[encoded data removed]",
      "text/plain": [
       "<matplotlib.figure.Figure at 0x1124b9b00>"
      ]
     },
     "metadata": {},
     "output_type": "display_data"
    },
    {
     "data": {
      "text/plain": [
       "<matplotlib.figure.Figure at 0x10b1c1780>"
      ]
     },
     "metadata": {},
     "output_type": "display_data"
    },
    {
     "data": {
      "image/png": "[encoded data removed]",
      "text/plain": [
       "<matplotlib.figure.Figure at 0x1125b0a20>"
      ]
     },
     "metadata": {},
     "output_type": "display_data"
    },
    {
     "data": {
      "image/png": "[encoded data removed]",
      "text/plain": [
       "<matplotlib.figure.Figure at 0x1125780b8>"
      ]
     },
     "metadata": {},
     "output_type": "display_data"
    }
   ],
   "source": [
    "#feature importance\n",
    "def ceate_feature_map(features):\n",
    "    outfile = open('xgb.fmap', 'w')\n",
    "    i = 0\n",
    "    for feat in features:\n",
    "        outfile.write('{0}\\t{1}\\tq\\n'.format(i, feat))\n",
    "        i = i + 1\n",
    "    outfile.close()\n",
    "ceate_feature_map(list(X_c.columns))\n",
    "print(X_c.columns)\n",
    "xgb.plot_importance(gbdt)\n",
    "importance = gbdt.get_fscore(fmap='xgb.fmap')\n",
    "importance = sorted(importance.items(), key=operator.itemgetter(1))\n",
    "print(importance)\n",
    "df = pd.DataFrame(importance, columns=['feature', 'fscore'])\n",
    "df['fscore'] = df['fscore'] / df['fscore'].sum()\n",
    "plt.figure()\n",
    "df.plot()\n",
    "df.plot(kind='barh', x='feature', y='fscore', legend=False)\n",
    "plt.title('XGBoost Feature Importance')\n",
    "plt.xlabel('relative importance')\n",
    "plt.gcf().savefig('contacts_feature_importance_xgb.png')"
   ]
  },
  {
   "cell_type": "code",
   "execution_count": 12,
   "metadata": {
    "collapsed": true
   },
   "outputs": [],
   "source": [
    "#output file\n",
    "submission=pd.DataFrame({'ID':contact_ID,'Contacts':gbdt.predict(dtest)})\n",
    "submission.to_csv('Contacts.csv',index=False)"
   ]
  },
  {
   "cell_type": "code",
   "execution_count": 13,
   "metadata": {
    "collapsed": true
   },
   "outputs": [],
   "source": [
    "x_train,x_val,y_train,y_val=train_test_split(X_r,y_r,test_size=0.3,random_state=42)"
   ]
  },
  {
   "cell_type": "code",
   "execution_count": 14,
   "metadata": {
    "collapsed": true
   },
   "outputs": [],
   "source": [
    "dtrain = xgb.DMatrix(np.array(x_train), label=y_train)\n",
    "dval=xgb.DMatrix(np.array(x_val),label=y_val)\n",
    "dtest = xgb.DMatrix(np.array(test_r))"
   ]
  },
  {
   "cell_type": "code",
   "execution_count": 15,
   "metadata": {
    "collapsed": true
   },
   "outputs": [],
   "source": [
    "one_to_left = st.beta(10, 1)  \n",
    "from_zero_positive = st.expon(0, 50)\n",
    "\n",
    "params = {  \n",
    "    \"n_estimators\": st.randint(3, 40),\n",
    "    \"max_depth\": st.randint(3, 40),\n",
    "    \"learning_rate\": st.uniform(0.05, 0.4),\n",
    "    \"colsample_bytree\": one_to_left,\n",
    "    \"subsample\": one_to_left,\n",
    "    \"gamma\": st.uniform(0, 10),\n",
    "    'reg_alpha': from_zero_positive,\n",
    "    \"min_child_weight\": from_zero_positive,\n",
    "}\n",
    "\n",
    "xgbreg = XGBRegressor(nthread=-1)  "
   ]
  },
  {
   "cell_type": "code",
   "execution_count": 16,
   "metadata": {
    "collapsed": false
   },
   "outputs": [
    {
     "ename": "KeyboardInterrupt",
     "evalue": "",
     "output_type": "error",
     "traceback": [
      "\u001b[0;31m---------------------------------------------------------------------------\u001b[0m",
      "\u001b[0;31mKeyboardInterrupt\u001b[0m                         Traceback (most recent call last)",
      "\u001b[0;32m<ipython-input-16-d95e24b43d94>\u001b[0m in \u001b[0;36m<module>\u001b[0;34m()\u001b[0m\n\u001b[1;32m      1\u001b[0m \u001b[0mgs\u001b[0m \u001b[0;34m=\u001b[0m \u001b[0mRandomizedSearchCV\u001b[0m\u001b[0;34m(\u001b[0m\u001b[0mxgbreg\u001b[0m\u001b[0;34m,\u001b[0m \u001b[0mparams\u001b[0m\u001b[0;34m,\u001b[0m \u001b[0mn_jobs\u001b[0m\u001b[0;34m=\u001b[0m\u001b[0;36m1\u001b[0m\u001b[0;34m)\u001b[0m\u001b[0;34m\u001b[0m\u001b[0m\n\u001b[0;32m----> 2\u001b[0;31m \u001b[0mgs\u001b[0m\u001b[0;34m.\u001b[0m\u001b[0mfit\u001b[0m\u001b[0;34m(\u001b[0m\u001b[0mx_train\u001b[0m\u001b[0;34m,\u001b[0m \u001b[0my_train\u001b[0m\u001b[0;34m)\u001b[0m\u001b[0;34m\u001b[0m\u001b[0m\n\u001b[0m\u001b[1;32m      3\u001b[0m \u001b[0mgs\u001b[0m\u001b[0;34m.\u001b[0m\u001b[0mbest_score_\u001b[0m\u001b[0;34m,\u001b[0m \u001b[0mgs\u001b[0m\u001b[0;34m.\u001b[0m\u001b[0mbest_params_\u001b[0m\u001b[0;34m\u001b[0m\u001b[0m\n",
      "\u001b[0;32m/Users/shiv/anaconda3/lib/python3.5/site-packages/sklearn/model_selection/_search.py\u001b[0m in \u001b[0;36mfit\u001b[0;34m(self, X, y, groups)\u001b[0m\n\u001b[1;32m   1188\u001b[0m                                           \u001b[0mself\u001b[0m\u001b[0;34m.\u001b[0m\u001b[0mn_iter\u001b[0m\u001b[0;34m,\u001b[0m\u001b[0;34m\u001b[0m\u001b[0m\n\u001b[1;32m   1189\u001b[0m                                           random_state=self.random_state)\n\u001b[0;32m-> 1190\u001b[0;31m         \u001b[0;32mreturn\u001b[0m \u001b[0mself\u001b[0m\u001b[0;34m.\u001b[0m\u001b[0m_fit\u001b[0m\u001b[0;34m(\u001b[0m\u001b[0mX\u001b[0m\u001b[0;34m,\u001b[0m \u001b[0my\u001b[0m\u001b[0;34m,\u001b[0m \u001b[0mgroups\u001b[0m\u001b[0;34m,\u001b[0m \u001b[0msampled_params\u001b[0m\u001b[0;34m)\u001b[0m\u001b[0;34m\u001b[0m\u001b[0m\n\u001b[0m",
      "\u001b[0;32m/Users/shiv/anaconda3/lib/python3.5/site-packages/sklearn/model_selection/_search.py\u001b[0m in \u001b[0;36m_fit\u001b[0;34m(self, X, y, groups, parameter_iterable)\u001b[0m\n\u001b[1;32m    562\u001b[0m                                   \u001b[0mreturn_times\u001b[0m\u001b[0;34m=\u001b[0m\u001b[0;32mTrue\u001b[0m\u001b[0;34m,\u001b[0m \u001b[0mreturn_parameters\u001b[0m\u001b[0;34m=\u001b[0m\u001b[0;32mTrue\u001b[0m\u001b[0;34m,\u001b[0m\u001b[0;34m\u001b[0m\u001b[0m\n\u001b[1;32m    563\u001b[0m                                   error_score=self.error_score)\n\u001b[0;32m--> 564\u001b[0;31m           \u001b[0;32mfor\u001b[0m \u001b[0mparameters\u001b[0m \u001b[0;32min\u001b[0m \u001b[0mparameter_iterable\u001b[0m\u001b[0;34m\u001b[0m\u001b[0m\n\u001b[0m\u001b[1;32m    565\u001b[0m           for train, test in cv_iter)\n\u001b[1;32m    566\u001b[0m \u001b[0;34m\u001b[0m\u001b[0m\n",
      "\u001b[0;32m/Users/shiv/anaconda3/lib/python3.5/site-packages/sklearn/externals/joblib/parallel.py\u001b[0m in \u001b[0;36m__call__\u001b[0;34m(self, iterable)\u001b[0m\n\u001b[1;32m    756\u001b[0m             \u001b[0;31m# was dispatched. In particular this covers the edge\u001b[0m\u001b[0;34m\u001b[0m\u001b[0;34m\u001b[0m\u001b[0m\n\u001b[1;32m    757\u001b[0m             \u001b[0;31m# case of Parallel used with an exhausted iterator.\u001b[0m\u001b[0;34m\u001b[0m\u001b[0;34m\u001b[0m\u001b[0m\n\u001b[0;32m--> 758\u001b[0;31m             \u001b[0;32mwhile\u001b[0m \u001b[0mself\u001b[0m\u001b[0;34m.\u001b[0m\u001b[0mdispatch_one_batch\u001b[0m\u001b[0;34m(\u001b[0m\u001b[0miterator\u001b[0m\u001b[0;34m)\u001b[0m\u001b[0;34m:\u001b[0m\u001b[0;34m\u001b[0m\u001b[0m\n\u001b[0m\u001b[1;32m    759\u001b[0m                 \u001b[0mself\u001b[0m\u001b[0;34m.\u001b[0m\u001b[0m_iterating\u001b[0m \u001b[0;34m=\u001b[0m \u001b[0;32mTrue\u001b[0m\u001b[0;34m\u001b[0m\u001b[0m\n\u001b[1;32m    760\u001b[0m             \u001b[0;32melse\u001b[0m\u001b[0;34m:\u001b[0m\u001b[0;34m\u001b[0m\u001b[0m\n",
      "\u001b[0;32m/Users/shiv/anaconda3/lib/python3.5/site-packages/sklearn/externals/joblib/parallel.py\u001b[0m in \u001b[0;36mdispatch_one_batch\u001b[0;34m(self, iterator)\u001b[0m\n\u001b[1;32m    606\u001b[0m                 \u001b[0;32mreturn\u001b[0m \u001b[0;32mFalse\u001b[0m\u001b[0;34m\u001b[0m\u001b[0m\n\u001b[1;32m    607\u001b[0m             \u001b[0;32melse\u001b[0m\u001b[0;34m:\u001b[0m\u001b[0;34m\u001b[0m\u001b[0m\n\u001b[0;32m--> 608\u001b[0;31m                 \u001b[0mself\u001b[0m\u001b[0;34m.\u001b[0m\u001b[0m_dispatch\u001b[0m\u001b[0;34m(\u001b[0m\u001b[0mtasks\u001b[0m\u001b[0;34m)\u001b[0m\u001b[0;34m\u001b[0m\u001b[0m\n\u001b[0m\u001b[1;32m    609\u001b[0m                 \u001b[0;32mreturn\u001b[0m \u001b[0;32mTrue\u001b[0m\u001b[0;34m\u001b[0m\u001b[0m\n\u001b[1;32m    610\u001b[0m \u001b[0;34m\u001b[0m\u001b[0m\n",
      "\u001b[0;32m/Users/shiv/anaconda3/lib/python3.5/site-packages/sklearn/externals/joblib/parallel.py\u001b[0m in \u001b[0;36m_dispatch\u001b[0;34m(self, batch)\u001b[0m\n\u001b[1;32m    569\u001b[0m         \u001b[0mdispatch_timestamp\u001b[0m \u001b[0;34m=\u001b[0m \u001b[0mtime\u001b[0m\u001b[0;34m.\u001b[0m\u001b[0mtime\u001b[0m\u001b[0;34m(\u001b[0m\u001b[0;34m)\u001b[0m\u001b[0;34m\u001b[0m\u001b[0m\n\u001b[1;32m    570\u001b[0m         \u001b[0mcb\u001b[0m \u001b[0;34m=\u001b[0m \u001b[0mBatchCompletionCallBack\u001b[0m\u001b[0;34m(\u001b[0m\u001b[0mdispatch_timestamp\u001b[0m\u001b[0;34m,\u001b[0m \u001b[0mlen\u001b[0m\u001b[0;34m(\u001b[0m\u001b[0mbatch\u001b[0m\u001b[0;34m)\u001b[0m\u001b[0;34m,\u001b[0m \u001b[0mself\u001b[0m\u001b[0;34m)\u001b[0m\u001b[0;34m\u001b[0m\u001b[0m\n\u001b[0;32m--> 571\u001b[0;31m         \u001b[0mjob\u001b[0m \u001b[0;34m=\u001b[0m \u001b[0mself\u001b[0m\u001b[0;34m.\u001b[0m\u001b[0m_backend\u001b[0m\u001b[0;34m.\u001b[0m\u001b[0mapply_async\u001b[0m\u001b[0;34m(\u001b[0m\u001b[0mbatch\u001b[0m\u001b[0;34m,\u001b[0m \u001b[0mcallback\u001b[0m\u001b[0;34m=\u001b[0m\u001b[0mcb\u001b[0m\u001b[0;34m)\u001b[0m\u001b[0;34m\u001b[0m\u001b[0m\n\u001b[0m\u001b[1;32m    572\u001b[0m         \u001b[0mself\u001b[0m\u001b[0;34m.\u001b[0m\u001b[0m_jobs\u001b[0m\u001b[0;34m.\u001b[0m\u001b[0mappend\u001b[0m\u001b[0;34m(\u001b[0m\u001b[0mjob\u001b[0m\u001b[0;34m)\u001b[0m\u001b[0;34m\u001b[0m\u001b[0m\n\u001b[1;32m    573\u001b[0m \u001b[0;34m\u001b[0m\u001b[0m\n",
      "\u001b[0;32m/Users/shiv/anaconda3/lib/python3.5/site-packages/sklearn/externals/joblib/_parallel_backends.py\u001b[0m in \u001b[0;36mapply_async\u001b[0;34m(self, func, callback)\u001b[0m\n\u001b[1;32m    107\u001b[0m     \u001b[0;32mdef\u001b[0m \u001b[0mapply_async\u001b[0m\u001b[0;34m(\u001b[0m\u001b[0mself\u001b[0m\u001b[0;34m,\u001b[0m \u001b[0mfunc\u001b[0m\u001b[0;34m,\u001b[0m \u001b[0mcallback\u001b[0m\u001b[0;34m=\u001b[0m\u001b[0;32mNone\u001b[0m\u001b[0;34m)\u001b[0m\u001b[0;34m:\u001b[0m\u001b[0;34m\u001b[0m\u001b[0m\n\u001b[1;32m    108\u001b[0m         \u001b[0;34m\"\"\"Schedule a func to be run\"\"\"\u001b[0m\u001b[0;34m\u001b[0m\u001b[0m\n\u001b[0;32m--> 109\u001b[0;31m         \u001b[0mresult\u001b[0m \u001b[0;34m=\u001b[0m \u001b[0mImmediateResult\u001b[0m\u001b[0;34m(\u001b[0m\u001b[0mfunc\u001b[0m\u001b[0;34m)\u001b[0m\u001b[0;34m\u001b[0m\u001b[0m\n\u001b[0m\u001b[1;32m    110\u001b[0m         \u001b[0;32mif\u001b[0m \u001b[0mcallback\u001b[0m\u001b[0;34m:\u001b[0m\u001b[0;34m\u001b[0m\u001b[0m\n\u001b[1;32m    111\u001b[0m             \u001b[0mcallback\u001b[0m\u001b[0;34m(\u001b[0m\u001b[0mresult\u001b[0m\u001b[0;34m)\u001b[0m\u001b[0;34m\u001b[0m\u001b[0m\n",
      "\u001b[0;32m/Users/shiv/anaconda3/lib/python3.5/site-packages/sklearn/externals/joblib/_parallel_backends.py\u001b[0m in \u001b[0;36m__init__\u001b[0;34m(self, batch)\u001b[0m\n\u001b[1;32m    324\u001b[0m         \u001b[0;31m# Don't delay the application, to avoid keeping the input\u001b[0m\u001b[0;34m\u001b[0m\u001b[0;34m\u001b[0m\u001b[0m\n\u001b[1;32m    325\u001b[0m         \u001b[0;31m# arguments in memory\u001b[0m\u001b[0;34m\u001b[0m\u001b[0;34m\u001b[0m\u001b[0m\n\u001b[0;32m--> 326\u001b[0;31m         \u001b[0mself\u001b[0m\u001b[0;34m.\u001b[0m\u001b[0mresults\u001b[0m \u001b[0;34m=\u001b[0m \u001b[0mbatch\u001b[0m\u001b[0;34m(\u001b[0m\u001b[0;34m)\u001b[0m\u001b[0;34m\u001b[0m\u001b[0m\n\u001b[0m\u001b[1;32m    327\u001b[0m \u001b[0;34m\u001b[0m\u001b[0m\n\u001b[1;32m    328\u001b[0m     \u001b[0;32mdef\u001b[0m \u001b[0mget\u001b[0m\u001b[0;34m(\u001b[0m\u001b[0mself\u001b[0m\u001b[0;34m)\u001b[0m\u001b[0;34m:\u001b[0m\u001b[0;34m\u001b[0m\u001b[0m\n",
      "\u001b[0;32m/Users/shiv/anaconda3/lib/python3.5/site-packages/sklearn/externals/joblib/parallel.py\u001b[0m in \u001b[0;36m__call__\u001b[0;34m(self)\u001b[0m\n\u001b[1;32m    129\u001b[0m \u001b[0;34m\u001b[0m\u001b[0m\n\u001b[1;32m    130\u001b[0m     \u001b[0;32mdef\u001b[0m \u001b[0m__call__\u001b[0m\u001b[0;34m(\u001b[0m\u001b[0mself\u001b[0m\u001b[0;34m)\u001b[0m\u001b[0;34m:\u001b[0m\u001b[0;34m\u001b[0m\u001b[0m\n\u001b[0;32m--> 131\u001b[0;31m         \u001b[0;32mreturn\u001b[0m \u001b[0;34m[\u001b[0m\u001b[0mfunc\u001b[0m\u001b[0;34m(\u001b[0m\u001b[0;34m*\u001b[0m\u001b[0margs\u001b[0m\u001b[0;34m,\u001b[0m \u001b[0;34m**\u001b[0m\u001b[0mkwargs\u001b[0m\u001b[0;34m)\u001b[0m \u001b[0;32mfor\u001b[0m \u001b[0mfunc\u001b[0m\u001b[0;34m,\u001b[0m \u001b[0margs\u001b[0m\u001b[0;34m,\u001b[0m \u001b[0mkwargs\u001b[0m \u001b[0;32min\u001b[0m \u001b[0mself\u001b[0m\u001b[0;34m.\u001b[0m\u001b[0mitems\u001b[0m\u001b[0;34m]\u001b[0m\u001b[0;34m\u001b[0m\u001b[0m\n\u001b[0m\u001b[1;32m    132\u001b[0m \u001b[0;34m\u001b[0m\u001b[0m\n\u001b[1;32m    133\u001b[0m     \u001b[0;32mdef\u001b[0m \u001b[0m__len__\u001b[0m\u001b[0;34m(\u001b[0m\u001b[0mself\u001b[0m\u001b[0;34m)\u001b[0m\u001b[0;34m:\u001b[0m\u001b[0;34m\u001b[0m\u001b[0m\n",
      "\u001b[0;32m/Users/shiv/anaconda3/lib/python3.5/site-packages/sklearn/externals/joblib/parallel.py\u001b[0m in \u001b[0;36m<listcomp>\u001b[0;34m(.0)\u001b[0m\n\u001b[1;32m    129\u001b[0m \u001b[0;34m\u001b[0m\u001b[0m\n\u001b[1;32m    130\u001b[0m     \u001b[0;32mdef\u001b[0m \u001b[0m__call__\u001b[0m\u001b[0;34m(\u001b[0m\u001b[0mself\u001b[0m\u001b[0;34m)\u001b[0m\u001b[0;34m:\u001b[0m\u001b[0;34m\u001b[0m\u001b[0m\n\u001b[0;32m--> 131\u001b[0;31m         \u001b[0;32mreturn\u001b[0m \u001b[0;34m[\u001b[0m\u001b[0mfunc\u001b[0m\u001b[0;34m(\u001b[0m\u001b[0;34m*\u001b[0m\u001b[0margs\u001b[0m\u001b[0;34m,\u001b[0m \u001b[0;34m**\u001b[0m\u001b[0mkwargs\u001b[0m\u001b[0;34m)\u001b[0m \u001b[0;32mfor\u001b[0m \u001b[0mfunc\u001b[0m\u001b[0;34m,\u001b[0m \u001b[0margs\u001b[0m\u001b[0;34m,\u001b[0m \u001b[0mkwargs\u001b[0m \u001b[0;32min\u001b[0m \u001b[0mself\u001b[0m\u001b[0;34m.\u001b[0m\u001b[0mitems\u001b[0m\u001b[0;34m]\u001b[0m\u001b[0;34m\u001b[0m\u001b[0m\n\u001b[0m\u001b[1;32m    132\u001b[0m \u001b[0;34m\u001b[0m\u001b[0m\n\u001b[1;32m    133\u001b[0m     \u001b[0;32mdef\u001b[0m \u001b[0m__len__\u001b[0m\u001b[0;34m(\u001b[0m\u001b[0mself\u001b[0m\u001b[0;34m)\u001b[0m\u001b[0;34m:\u001b[0m\u001b[0;34m\u001b[0m\u001b[0m\n",
      "\u001b[0;32m/Users/shiv/anaconda3/lib/python3.5/site-packages/sklearn/model_selection/_validation.py\u001b[0m in \u001b[0;36m_fit_and_score\u001b[0;34m(estimator, X, y, scorer, train, test, verbose, parameters, fit_params, return_train_score, return_parameters, return_n_test_samples, return_times, error_score)\u001b[0m\n\u001b[1;32m    258\u001b[0m     \u001b[0;32melse\u001b[0m\u001b[0;34m:\u001b[0m\u001b[0;34m\u001b[0m\u001b[0m\n\u001b[1;32m    259\u001b[0m         \u001b[0mfit_time\u001b[0m \u001b[0;34m=\u001b[0m \u001b[0mtime\u001b[0m\u001b[0;34m.\u001b[0m\u001b[0mtime\u001b[0m\u001b[0;34m(\u001b[0m\u001b[0;34m)\u001b[0m \u001b[0;34m-\u001b[0m \u001b[0mstart_time\u001b[0m\u001b[0;34m\u001b[0m\u001b[0m\n\u001b[0;32m--> 260\u001b[0;31m         \u001b[0mtest_score\u001b[0m \u001b[0;34m=\u001b[0m \u001b[0m_score\u001b[0m\u001b[0;34m(\u001b[0m\u001b[0mestimator\u001b[0m\u001b[0;34m,\u001b[0m \u001b[0mX_test\u001b[0m\u001b[0;34m,\u001b[0m \u001b[0my_test\u001b[0m\u001b[0;34m,\u001b[0m \u001b[0mscorer\u001b[0m\u001b[0;34m)\u001b[0m\u001b[0;34m\u001b[0m\u001b[0m\n\u001b[0m\u001b[1;32m    261\u001b[0m         \u001b[0mscore_time\u001b[0m \u001b[0;34m=\u001b[0m \u001b[0mtime\u001b[0m\u001b[0;34m.\u001b[0m\u001b[0mtime\u001b[0m\u001b[0;34m(\u001b[0m\u001b[0;34m)\u001b[0m \u001b[0;34m-\u001b[0m \u001b[0mstart_time\u001b[0m \u001b[0;34m-\u001b[0m \u001b[0mfit_time\u001b[0m\u001b[0;34m\u001b[0m\u001b[0m\n\u001b[1;32m    262\u001b[0m         \u001b[0;32mif\u001b[0m \u001b[0mreturn_train_score\u001b[0m\u001b[0;34m:\u001b[0m\u001b[0;34m\u001b[0m\u001b[0m\n",
      "\u001b[0;32m/Users/shiv/anaconda3/lib/python3.5/site-packages/sklearn/model_selection/_validation.py\u001b[0m in \u001b[0;36m_score\u001b[0;34m(estimator, X_test, y_test, scorer)\u001b[0m\n\u001b[1;32m    286\u001b[0m         \u001b[0mscore\u001b[0m \u001b[0;34m=\u001b[0m \u001b[0mscorer\u001b[0m\u001b[0;34m(\u001b[0m\u001b[0mestimator\u001b[0m\u001b[0;34m,\u001b[0m \u001b[0mX_test\u001b[0m\u001b[0;34m)\u001b[0m\u001b[0;34m\u001b[0m\u001b[0m\n\u001b[1;32m    287\u001b[0m     \u001b[0;32melse\u001b[0m\u001b[0;34m:\u001b[0m\u001b[0;34m\u001b[0m\u001b[0m\n\u001b[0;32m--> 288\u001b[0;31m         \u001b[0mscore\u001b[0m \u001b[0;34m=\u001b[0m \u001b[0mscorer\u001b[0m\u001b[0;34m(\u001b[0m\u001b[0mestimator\u001b[0m\u001b[0;34m,\u001b[0m \u001b[0mX_test\u001b[0m\u001b[0;34m,\u001b[0m \u001b[0my_test\u001b[0m\u001b[0;34m)\u001b[0m\u001b[0;34m\u001b[0m\u001b[0m\n\u001b[0m\u001b[1;32m    289\u001b[0m     \u001b[0;32mif\u001b[0m \u001b[0mhasattr\u001b[0m\u001b[0;34m(\u001b[0m\u001b[0mscore\u001b[0m\u001b[0;34m,\u001b[0m \u001b[0;34m'item'\u001b[0m\u001b[0;34m)\u001b[0m\u001b[0;34m:\u001b[0m\u001b[0;34m\u001b[0m\u001b[0m\n\u001b[1;32m    290\u001b[0m         \u001b[0;32mtry\u001b[0m\u001b[0;34m:\u001b[0m\u001b[0;34m\u001b[0m\u001b[0m\n",
      "\u001b[0;32m/Users/shiv/anaconda3/lib/python3.5/site-packages/sklearn/metrics/scorer.py\u001b[0m in \u001b[0;36m_passthrough_scorer\u001b[0;34m(estimator, *args, **kwargs)\u001b[0m\n\u001b[1;32m    217\u001b[0m \u001b[0;32mdef\u001b[0m \u001b[0m_passthrough_scorer\u001b[0m\u001b[0;34m(\u001b[0m\u001b[0mestimator\u001b[0m\u001b[0;34m,\u001b[0m \u001b[0;34m*\u001b[0m\u001b[0margs\u001b[0m\u001b[0;34m,\u001b[0m \u001b[0;34m**\u001b[0m\u001b[0mkwargs\u001b[0m\u001b[0;34m)\u001b[0m\u001b[0;34m:\u001b[0m\u001b[0;34m\u001b[0m\u001b[0m\n\u001b[1;32m    218\u001b[0m     \u001b[0;34m\"\"\"Function that wraps estimator.score\"\"\"\u001b[0m\u001b[0;34m\u001b[0m\u001b[0m\n\u001b[0;32m--> 219\u001b[0;31m     \u001b[0;32mreturn\u001b[0m \u001b[0mestimator\u001b[0m\u001b[0;34m.\u001b[0m\u001b[0mscore\u001b[0m\u001b[0;34m(\u001b[0m\u001b[0;34m*\u001b[0m\u001b[0margs\u001b[0m\u001b[0;34m,\u001b[0m \u001b[0;34m**\u001b[0m\u001b[0mkwargs\u001b[0m\u001b[0;34m)\u001b[0m\u001b[0;34m\u001b[0m\u001b[0m\n\u001b[0m\u001b[1;32m    220\u001b[0m \u001b[0;34m\u001b[0m\u001b[0m\n\u001b[1;32m    221\u001b[0m \u001b[0;34m\u001b[0m\u001b[0m\n",
      "\u001b[0;32m/Users/shiv/anaconda3/lib/python3.5/site-packages/sklearn/base.py\u001b[0m in \u001b[0;36mscore\u001b[0;34m(self, X, y, sample_weight)\u001b[0m\n\u001b[1;32m    384\u001b[0m \u001b[0;34m\u001b[0m\u001b[0m\n\u001b[1;32m    385\u001b[0m         \u001b[0;32mfrom\u001b[0m \u001b[0;34m.\u001b[0m\u001b[0mmetrics\u001b[0m \u001b[0;32mimport\u001b[0m \u001b[0mr2_score\u001b[0m\u001b[0;34m\u001b[0m\u001b[0m\n\u001b[0;32m--> 386\u001b[0;31m         return r2_score(y, self.predict(X), sample_weight=sample_weight,\n\u001b[0m\u001b[1;32m    387\u001b[0m                         multioutput='variance_weighted')\n\u001b[1;32m    388\u001b[0m \u001b[0;34m\u001b[0m\u001b[0m\n",
      "\u001b[0;32m/Users/shiv/anaconda3/lib/python3.5/site-packages/xgboost-0.6-py3.5.egg/xgboost/sklearn.py\u001b[0m in \u001b[0;36mpredict\u001b[0;34m(self, data, output_margin, ntree_limit)\u001b[0m\n\u001b[1;32m    273\u001b[0m         return self.booster().predict(test_dmatrix,\n\u001b[1;32m    274\u001b[0m                                       \u001b[0moutput_margin\u001b[0m\u001b[0;34m=\u001b[0m\u001b[0moutput_margin\u001b[0m\u001b[0;34m,\u001b[0m\u001b[0;34m\u001b[0m\u001b[0m\n\u001b[0;32m--> 275\u001b[0;31m                                       ntree_limit=ntree_limit)\n\u001b[0m\u001b[1;32m    276\u001b[0m \u001b[0;34m\u001b[0m\u001b[0m\n\u001b[1;32m    277\u001b[0m     \u001b[0;32mdef\u001b[0m \u001b[0mapply\u001b[0m\u001b[0;34m(\u001b[0m\u001b[0mself\u001b[0m\u001b[0;34m,\u001b[0m \u001b[0mX\u001b[0m\u001b[0;34m,\u001b[0m \u001b[0mntree_limit\u001b[0m\u001b[0;34m=\u001b[0m\u001b[0;36m0\u001b[0m\u001b[0;34m)\u001b[0m\u001b[0;34m:\u001b[0m\u001b[0;34m\u001b[0m\u001b[0m\n",
      "\u001b[0;32m/Users/shiv/anaconda3/lib/python3.5/site-packages/xgboost-0.6-py3.5.egg/xgboost/core.py\u001b[0m in \u001b[0;36mpredict\u001b[0;34m(self, data, output_margin, ntree_limit, pred_leaf)\u001b[0m\n\u001b[1;32m    955\u001b[0m                                           \u001b[0moption_mask\u001b[0m\u001b[0;34m,\u001b[0m \u001b[0mntree_limit\u001b[0m\u001b[0;34m,\u001b[0m\u001b[0;34m\u001b[0m\u001b[0m\n\u001b[1;32m    956\u001b[0m                                           \u001b[0mctypes\u001b[0m\u001b[0;34m.\u001b[0m\u001b[0mbyref\u001b[0m\u001b[0;34m(\u001b[0m\u001b[0mlength\u001b[0m\u001b[0;34m)\u001b[0m\u001b[0;34m,\u001b[0m\u001b[0;34m\u001b[0m\u001b[0m\n\u001b[0;32m--> 957\u001b[0;31m                                           ctypes.byref(preds)))\n\u001b[0m\u001b[1;32m    958\u001b[0m         \u001b[0mpreds\u001b[0m \u001b[0;34m=\u001b[0m \u001b[0mctypes2numpy\u001b[0m\u001b[0;34m(\u001b[0m\u001b[0mpreds\u001b[0m\u001b[0;34m,\u001b[0m \u001b[0mlength\u001b[0m\u001b[0;34m.\u001b[0m\u001b[0mvalue\u001b[0m\u001b[0;34m,\u001b[0m \u001b[0mnp\u001b[0m\u001b[0;34m.\u001b[0m\u001b[0mfloat32\u001b[0m\u001b[0;34m)\u001b[0m\u001b[0;34m\u001b[0m\u001b[0m\n\u001b[1;32m    959\u001b[0m         \u001b[0;32mif\u001b[0m \u001b[0mpred_leaf\u001b[0m\u001b[0;34m:\u001b[0m\u001b[0;34m\u001b[0m\u001b[0m\n",
      "\u001b[0;31mKeyboardInterrupt\u001b[0m: "
     ]
    }
   ],
   "source": [
    "gs = RandomizedSearchCV(xgbreg, params, n_jobs=1)  \n",
    "gs.fit(x_train, y_train)  \n",
    "gs.best_score_, gs.best_params_"
   ]
  },
  {
   "cell_type": "code",
   "execution_count": 17,
   "metadata": {
    "collapsed": false
   },
   "outputs": [
    {
     "name": "stdout",
     "output_type": "stream",
     "text": [
      "[0]\ttrain-rmse:16.7751\teval-rmse:16.4913\n",
      "Multiple eval metrics have been passed: 'eval-rmse' will be used for early stopping.\n",
      "\n",
      "Will train until eval-rmse hasn't improved in 50 rounds.\n",
      "[1]\ttrain-rmse:16.7039\teval-rmse:16.4193\n",
      "[2]\ttrain-rmse:16.6453\teval-rmse:16.3593\n",
      "[3]\ttrain-rmse:16.613\teval-rmse:16.3262\n",
      "[4]\ttrain-rmse:16.5949\teval-rmse:16.3077\n",
      "[5]\ttrain-rmse:16.5879\teval-rmse:16.3007\n",
      "[6]\ttrain-rmse:16.5808\teval-rmse:16.2933\n",
      "[7]\ttrain-rmse:16.5786\teval-rmse:16.2912\n",
      "[8]\ttrain-rmse:16.5773\teval-rmse:16.29\n",
      "[9]\ttrain-rmse:16.5745\teval-rmse:16.287\n",
      "[10]\ttrain-rmse:16.5728\teval-rmse:16.2852\n",
      "[11]\ttrain-rmse:16.5726\teval-rmse:16.285\n",
      "[12]\ttrain-rmse:16.5717\teval-rmse:16.284\n",
      "[13]\ttrain-rmse:16.5712\teval-rmse:16.2834\n",
      "[14]\ttrain-rmse:16.5711\teval-rmse:16.2833\n",
      "[15]\ttrain-rmse:16.5711\teval-rmse:16.2833\n",
      "[16]\ttrain-rmse:16.5711\teval-rmse:16.2833\n",
      "[17]\ttrain-rmse:16.5711\teval-rmse:16.2833\n",
      "[18]\ttrain-rmse:16.5711\teval-rmse:16.2833\n",
      "[19]\ttrain-rmse:16.5708\teval-rmse:16.283\n",
      "[20]\ttrain-rmse:16.5706\teval-rmse:16.2828\n",
      "[21]\ttrain-rmse:16.5705\teval-rmse:16.2827\n",
      "[22]\ttrain-rmse:16.5705\teval-rmse:16.2826\n",
      "[23]\ttrain-rmse:16.5705\teval-rmse:16.2826\n",
      "[24]\ttrain-rmse:16.5705\teval-rmse:16.2826\n",
      "[25]\ttrain-rmse:16.5705\teval-rmse:16.2826\n",
      "[26]\ttrain-rmse:16.5704\teval-rmse:16.2825\n",
      "[27]\ttrain-rmse:16.5704\teval-rmse:16.2825\n",
      "[28]\ttrain-rmse:16.5704\teval-rmse:16.2825\n",
      "[29]\ttrain-rmse:16.5704\teval-rmse:16.2825\n",
      "[30]\ttrain-rmse:16.5704\teval-rmse:16.2825\n",
      "[31]\ttrain-rmse:16.5704\teval-rmse:16.2825\n",
      "[32]\ttrain-rmse:16.5704\teval-rmse:16.2825\n",
      "[33]\ttrain-rmse:16.5704\teval-rmse:16.2825\n",
      "[34]\ttrain-rmse:16.5704\teval-rmse:16.2825\n",
      "[35]\ttrain-rmse:16.5704\teval-rmse:16.2825\n",
      "[36]\ttrain-rmse:16.5704\teval-rmse:16.2825\n",
      "[37]\ttrain-rmse:16.5704\teval-rmse:16.2825\n",
      "[38]\ttrain-rmse:16.5704\teval-rmse:16.2825\n",
      "[39]\ttrain-rmse:16.5704\teval-rmse:16.2825\n",
      "[40]\ttrain-rmse:16.5704\teval-rmse:16.2825\n",
      "[41]\ttrain-rmse:16.5704\teval-rmse:16.2825\n",
      "[42]\ttrain-rmse:16.5704\teval-rmse:16.2825\n",
      "[43]\ttrain-rmse:16.5704\teval-rmse:16.2825\n",
      "[44]\ttrain-rmse:16.5704\teval-rmse:16.2825\n",
      "[45]\ttrain-rmse:16.5704\teval-rmse:16.2825\n",
      "[46]\ttrain-rmse:16.5704\teval-rmse:16.2825\n",
      "[47]\ttrain-rmse:16.5704\teval-rmse:16.2825\n",
      "[48]\ttrain-rmse:16.5704\teval-rmse:16.2825\n",
      "[49]\ttrain-rmse:16.5704\teval-rmse:16.2825\n",
      "[50]\ttrain-rmse:16.5704\teval-rmse:16.2825\n",
      "[51]\ttrain-rmse:16.5704\teval-rmse:16.2824\n",
      "[52]\ttrain-rmse:16.5704\teval-rmse:16.2824\n",
      "[53]\ttrain-rmse:16.5704\teval-rmse:16.2824\n",
      "[54]\ttrain-rmse:16.5704\teval-rmse:16.2824\n",
      "[55]\ttrain-rmse:16.5704\teval-rmse:16.2824\n",
      "[56]\ttrain-rmse:16.5704\teval-rmse:16.2824\n",
      "[57]\ttrain-rmse:16.5704\teval-rmse:16.2824\n",
      "[58]\ttrain-rmse:16.5704\teval-rmse:16.2824\n",
      "[59]\ttrain-rmse:16.5704\teval-rmse:16.2824\n",
      "[60]\ttrain-rmse:16.5704\teval-rmse:16.2824\n",
      "[61]\ttrain-rmse:16.5704\teval-rmse:16.2824\n",
      "[62]\ttrain-rmse:16.5704\teval-rmse:16.2824\n",
      "[63]\ttrain-rmse:16.5704\teval-rmse:16.2824\n",
      "[64]\ttrain-rmse:16.5704\teval-rmse:16.2825\n",
      "[65]\ttrain-rmse:16.5704\teval-rmse:16.2825\n",
      "[66]\ttrain-rmse:16.5704\teval-rmse:16.2825\n",
      "[67]\ttrain-rmse:16.5704\teval-rmse:16.2825\n",
      "[68]\ttrain-rmse:16.5704\teval-rmse:16.2825\n",
      "[69]\ttrain-rmse:16.5704\teval-rmse:16.2825\n",
      "[70]\ttrain-rmse:16.5704\teval-rmse:16.2825\n",
      "[71]\ttrain-rmse:16.5704\teval-rmse:16.2825\n",
      "[72]\ttrain-rmse:16.5704\teval-rmse:16.2825\n",
      "[73]\ttrain-rmse:16.5704\teval-rmse:16.2825\n",
      "[74]\ttrain-rmse:16.5704\teval-rmse:16.2825\n",
      "[75]\ttrain-rmse:16.5704\teval-rmse:16.2825\n",
      "[76]\ttrain-rmse:16.5704\teval-rmse:16.2824\n",
      "[77]\ttrain-rmse:16.5704\teval-rmse:16.2824\n",
      "[78]\ttrain-rmse:16.5704\teval-rmse:16.2824\n",
      "[79]\ttrain-rmse:16.5704\teval-rmse:16.2824\n",
      "[80]\ttrain-rmse:16.5704\teval-rmse:16.2824\n",
      "[81]\ttrain-rmse:16.5704\teval-rmse:16.2824\n",
      "[82]\ttrain-rmse:16.5704\teval-rmse:16.2824\n",
      "[83]\ttrain-rmse:16.5704\teval-rmse:16.2824\n",
      "[84]\ttrain-rmse:16.5704\teval-rmse:16.2824\n",
      "[85]\ttrain-rmse:16.5704\teval-rmse:16.2824\n",
      "[86]\ttrain-rmse:16.5704\teval-rmse:16.2824\n",
      "[87]\ttrain-rmse:16.5704\teval-rmse:16.2824\n",
      "[88]\ttrain-rmse:16.5704\teval-rmse:16.2824\n",
      "[89]\ttrain-rmse:16.5704\teval-rmse:16.2824\n",
      "[90]\ttrain-rmse:16.5704\teval-rmse:16.2824\n",
      "[91]\ttrain-rmse:16.5704\teval-rmse:16.2824\n",
      "[92]\ttrain-rmse:16.5704\teval-rmse:16.2824\n",
      "[93]\ttrain-rmse:16.5704\teval-rmse:16.2824\n",
      "[94]\ttrain-rmse:16.5704\teval-rmse:16.2824\n",
      "[95]\ttrain-rmse:16.5704\teval-rmse:16.2824\n",
      "[96]\ttrain-rmse:16.5704\teval-rmse:16.2824\n",
      "[97]\ttrain-rmse:16.5704\teval-rmse:16.2824\n",
      "[98]\ttrain-rmse:16.5704\teval-rmse:16.2824\n",
      "[99]\ttrain-rmse:16.5704\teval-rmse:16.2824\n",
      "[100]\ttrain-rmse:16.5704\teval-rmse:16.2824\n",
      "[101]\ttrain-rmse:16.5704\teval-rmse:16.2824\n",
      "[102]\ttrain-rmse:16.5704\teval-rmse:16.2824\n",
      "[103]\ttrain-rmse:16.5704\teval-rmse:16.2824\n",
      "[104]\ttrain-rmse:16.5704\teval-rmse:16.2824\n",
      "[105]\ttrain-rmse:16.5704\teval-rmse:16.2824\n",
      "[106]\ttrain-rmse:16.5704\teval-rmse:16.2824\n",
      "Stopping. Best iteration:\n",
      "[56]\ttrain-rmse:16.5704\teval-rmse:16.2824\n",
      "\n"
     ]
    }
   ],
   "source": [
    "# classification\n",
    "xgb_params = {\n",
    "    'seed': 7,\n",
    "    'colsample_bytree': 0.96900124211361693,\n",
    "    'gamma': 7.2243949984428726,\n",
    "    'silent': 0,\n",
    "    'n_estimators': 34,\n",
    "    'reg_alpha': 115.10050000738525,\n",
    "    'subsample': 0.94666061968846671,\n",
    "    'learning_rate': 0.25488466025201351,\n",
    "    'objective': 'reg:linear',\n",
    "    'max_depth': 5,\n",
    "    'min_child_weight': 1.5874540252413947,\n",
    "    'eval_metric': 'rmse'\n",
    "}\n",
    "num_round=300 #800\n",
    "watchlist=[(dtrain,'train'),(dval,'eval')]\n",
    "\n",
    "gbdt = xgb.train(xgb_params, dtrain,num_round,watchlist,early_stopping_rounds=50)"
   ]
  },
  {
   "cell_type": "code",
   "execution_count": 18,
   "metadata": {
    "collapsed": false
   },
   "outputs": [
    {
     "name": "stdout",
     "output_type": "stream",
     "text": [
      "Index(['Category', 'Subject'], dtype='object')\n",
      "[('Category', 96), ('Subject', 502)]\n"
     ]
    },
    {
     "data": {
      "image/png": "[encoded data removed]",
      "text/plain": [
       "<matplotlib.figure.Figure at 0x112785278>"
      ]
     },
     "metadata": {},
     "output_type": "display_data"
    },
    {
     "data": {
      "text/plain": [
       "<matplotlib.figure.Figure at 0x111aeb588>"
      ]
     },
     "metadata": {},
     "output_type": "display_data"
    },
    {
     "data": {
      "image/png": "[encoded data removed]",
      "text/plain": [
       "<matplotlib.figure.Figure at 0x1116056d8>"
      ]
     },
     "metadata": {},
     "output_type": "display_data"
    },
    {
     "data": {
      "image/png": "[encoded data removed]",
      "text/plain": [
       "<matplotlib.figure.Figure at 0x111650898>"
      ]
     },
     "metadata": {},
     "output_type": "display_data"
    }
   ],
   "source": [
    "#feature importance\n",
    "def ceate_feature_map(features):\n",
    "    outfile = open('xgb.fmap', 'w')\n",
    "    i = 0\n",
    "    for feat in features:\n",
    "        outfile.write('{0}\\t{1}\\tq\\n'.format(i, feat))\n",
    "        i = i + 1\n",
    "    outfile.close()\n",
    "ceate_feature_map(list(X_r.columns))\n",
    "print(X_r.columns)\n",
    "xgb.plot_importance(gbdt)\n",
    "importance = gbdt.get_fscore(fmap='xgb.fmap')\n",
    "importance = sorted(importance.items(), key=operator.itemgetter(1))\n",
    "print(importance)\n",
    "df = pd.DataFrame(importance, columns=['feature', 'fscore'])\n",
    "df['fscore'] = df['fscore'] / df['fscore'].sum()\n",
    "plt.figure()\n",
    "df.plot()\n",
    "df.plot(kind='barh', x='feature', y='fscore', legend=False)\n",
    "plt.title('XGBoost Feature Importance')\n",
    "plt.xlabel('relative importance')\n",
    "plt.gcf().savefig('res_feature_importance_xgb.png')"
   ]
  },
  {
   "cell_type": "code",
   "execution_count": 19,
   "metadata": {
    "collapsed": true
   },
   "outputs": [],
   "source": [
    "#output file\n",
    "submission_=pd.DataFrame({'ID':res_ID,'Resolution':gbdt.predict(dtest)})\n",
    "submission_.to_csv('Resolution.csv',index=False)"
   ]
  },
  {
   "cell_type": "code",
   "execution_count": null,
   "metadata": {
    "collapsed": true
   },
   "outputs": [],
   "source": []
  }
 ],
 "metadata": {
  "kernelspec": {
   "display_name": "Python [conda root]",
   "language": "python",
   "name": "conda-root-py"
  },
  "language_info": {
   "codemirror_mode": {
    "name": "ipython",
    "version": 3
   },
   "file_extension": ".py",
   "mimetype": "text/x-python",
   "name": "python",
   "nbconvert_exporter": "python",
   "pygments_lexer": "ipython3",
   "version": "3.5.2"
  }
 },
 "nbformat": 4,
 "nbformat_minor": 2
}
